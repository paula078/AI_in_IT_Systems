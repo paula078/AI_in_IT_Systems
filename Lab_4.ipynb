{
 "cells": [
  {
   "cell_type": "markdown",
   "metadata": {
    "id": "860PFaEBIk3H"
   },
   "source": [
    "# LAB4 - TensorFlow Lite"
   ]
  },
  {
   "cell_type": "markdown",
   "metadata": {
    "id": "sSP0m_ZGIi5I"
   },
   "source": [
    "Przedmiot: _Sztuczna Inteligencja w Systemach Informatycznych_\n",
    "\n",
    "Autor: Tomasz Szydło\n",
    "\n",
    "kontakt: tszydlo@agh.edu.pl\n"
   ]
  },
  {
   "cell_type": "markdown",
   "metadata": {
    "id": "pNIkZMJIIceS"
   },
   "source": [
    "## Wprowadzenie\n",
    "\n",
    "Celem zajęć jest analiza działania konwersji sieci neuronowych do postaci możliwej do uruchomienia na urządzeniach o ograniczonych zasobach. W czasie zajęć będzie wykorzystywany zbiór Fashion MNIST, który zawiera 60000 obrazków w 10 kategoriach:\n",
    "\n",
    "https://github.com/zalandoresearch/fashion-mnist\n",
    "\n",
    "\n",
    "https://www.tensorflow.org/datasets/catalog/fashion_mnist\n",
    "\n",
    "\n",
    "### Środowisko pracy - Google Codelab\n",
    "\n",
    "https://codelabs.developers.google.com/?cat=Machine+Learning\n",
    "\n"
   ]
  },
  {
   "cell_type": "code",
   "execution_count": 1,
   "metadata": {
    "id": "pffqMCSFKRq6"
   },
   "outputs": [],
   "source": [
    "try:\n",
    "  %tensorflow_version 2.x\n",
    "except:\n",
    "  pass"
   ]
  },
  {
   "cell_type": "code",
   "execution_count": 2,
   "metadata": {
    "id": "hOEVEJ4eKU85"
   },
   "outputs": [
    {
     "name": "stdout",
     "output_type": "stream",
     "text": [
      "2.13.0\n"
     ]
    }
   ],
   "source": [
    "import tensorflow as tf\n",
    "from tensorflow import keras\n",
    "from tensorflow.keras.datasets import mnist, fashion_mnist\n",
    "from tensorflow.keras.models import Sequential\n",
    "from tensorflow.keras.layers import Dense, Dropout, Activation, Flatten, Conv2D, AveragePooling2D, MaxPooling2D\n",
    "\n",
    "from keras.utils import to_categorical\n",
    "\n",
    "import numpy as np\n",
    "import matplotlib.pyplot as plt\n",
    "import pathlib\n",
    "\n",
    "import time\n",
    "\n",
    "print(tf.__version__)"
   ]
  },
  {
   "cell_type": "markdown",
   "metadata": {
    "id": "1fCavbBCMtQ9"
   },
   "source": [
    "Przygotuj zbiór testowy. Zbiór fashion_mnist nie posiada słownych opisów klas."
   ]
  },
  {
   "cell_type": "code",
   "execution_count": 3,
   "metadata": {
    "id": "SDtjTnnKai7G"
   },
   "outputs": [
    {
     "name": "stdout",
     "output_type": "stream",
     "text": [
      "X_train original shape (60000, 28, 28)\n",
      "y_train original shape (60000,)\n"
     ]
    }
   ],
   "source": [
    "nb_classes = 10\n",
    "class_names = ['T-shirt_top', 'Trouser', 'Pullover', 'Dress', 'Coat',\n",
    "               'Sandal', 'Shirt', 'Sneaker', 'Bag', 'Ankle boot']\n",
    "\n",
    "#(X_train, y_train), (X_test, y_test) = mnist.load_data()\n",
    "(X_train, y_train), (X_test, y_test) = fashion_mnist.load_data()\n",
    "print(\"X_train original shape\", X_train.shape)\n",
    "print(\"y_train original shape\", y_train.shape)"
   ]
  },
  {
   "cell_type": "markdown",
   "metadata": {
    "id": "gJDe17SdCn6R"
   },
   "source": [
    "Wypisz ilość elementów w zbiorze uczącym i testowym.\n",
    "\n",
    "\n",
    "\n"
   ]
  },
  {
   "cell_type": "code",
   "execution_count": 4,
   "metadata": {
    "id": "eAcGemlGbuUG"
   },
   "outputs": [
    {
     "name": "stdout",
     "output_type": "stream",
     "text": [
      "[[[0 0 0 ... 0 0 0]\n",
      "  [0 0 0 ... 0 0 0]\n",
      "  [0 0 0 ... 0 0 0]\n",
      "  ...\n",
      "  [0 0 0 ... 0 0 0]\n",
      "  [0 0 0 ... 0 0 0]\n",
      "  [0 0 0 ... 0 0 0]]\n",
      "\n",
      " [[0 0 0 ... 0 0 0]\n",
      "  [0 0 0 ... 0 0 0]\n",
      "  [0 0 0 ... 0 0 0]\n",
      "  ...\n",
      "  [0 0 0 ... 0 0 0]\n",
      "  [0 0 0 ... 0 0 0]\n",
      "  [0 0 0 ... 0 0 0]]\n",
      "\n",
      " [[0 0 0 ... 0 0 0]\n",
      "  [0 0 0 ... 0 0 0]\n",
      "  [0 0 0 ... 0 0 0]\n",
      "  ...\n",
      "  [0 0 0 ... 0 0 0]\n",
      "  [0 0 0 ... 0 0 0]\n",
      "  [0 0 0 ... 0 0 0]]\n",
      "\n",
      " ...\n",
      "\n",
      " [[0 0 0 ... 0 0 0]\n",
      "  [0 0 0 ... 0 0 0]\n",
      "  [0 0 0 ... 0 0 0]\n",
      "  ...\n",
      "  [0 0 0 ... 0 0 0]\n",
      "  [0 0 0 ... 0 0 0]\n",
      "  [0 0 0 ... 0 0 0]]\n",
      "\n",
      " [[0 0 0 ... 0 0 0]\n",
      "  [0 0 0 ... 0 0 0]\n",
      "  [0 0 0 ... 0 0 0]\n",
      "  ...\n",
      "  [0 0 0 ... 0 0 0]\n",
      "  [0 0 0 ... 0 0 0]\n",
      "  [0 0 0 ... 0 0 0]]\n",
      "\n",
      " [[0 0 0 ... 0 0 0]\n",
      "  [0 0 0 ... 0 0 0]\n",
      "  [0 0 0 ... 0 0 0]\n",
      "  ...\n",
      "  [0 0 0 ... 0 0 0]\n",
      "  [0 0 0 ... 0 0 0]\n",
      "  [0 0 0 ... 0 0 0]]]\n",
      "[[[0 0 0 ... 0 0 0]\n",
      "  [0 0 0 ... 0 0 0]\n",
      "  [0 0 0 ... 0 0 0]\n",
      "  ...\n",
      "  [0 0 0 ... 0 0 0]\n",
      "  [0 0 0 ... 0 0 0]\n",
      "  [0 0 0 ... 0 0 0]]\n",
      "\n",
      " [[0 0 0 ... 0 0 0]\n",
      "  [0 0 0 ... 0 0 0]\n",
      "  [0 0 0 ... 0 0 0]\n",
      "  ...\n",
      "  [0 0 0 ... 0 0 0]\n",
      "  [0 0 0 ... 0 0 0]\n",
      "  [0 0 0 ... 0 0 0]]\n",
      "\n",
      " [[0 0 0 ... 0 0 0]\n",
      "  [0 0 0 ... 0 0 0]\n",
      "  [0 0 0 ... 0 0 0]\n",
      "  ...\n",
      "  [0 0 0 ... 0 0 0]\n",
      "  [0 0 0 ... 0 0 0]\n",
      "  [0 0 0 ... 0 0 0]]\n",
      "\n",
      " ...\n",
      "\n",
      " [[0 0 0 ... 0 0 0]\n",
      "  [0 0 0 ... 0 0 0]\n",
      "  [0 0 0 ... 0 0 0]\n",
      "  ...\n",
      "  [0 0 0 ... 0 0 0]\n",
      "  [0 0 0 ... 0 0 0]\n",
      "  [0 0 0 ... 0 0 0]]\n",
      "\n",
      " [[0 0 0 ... 0 0 0]\n",
      "  [0 0 0 ... 0 0 0]\n",
      "  [0 0 0 ... 0 0 0]\n",
      "  ...\n",
      "  [0 0 0 ... 0 0 0]\n",
      "  [0 0 0 ... 0 0 0]\n",
      "  [0 0 0 ... 0 0 0]]\n",
      "\n",
      " [[0 0 0 ... 0 0 0]\n",
      "  [0 0 0 ... 0 0 0]\n",
      "  [0 0 0 ... 0 0 0]\n",
      "  ...\n",
      "  [0 0 0 ... 0 0 0]\n",
      "  [0 0 0 ... 0 0 0]\n",
      "  [0 0 0 ... 0 0 0]]]\n",
      "10000\n",
      "60000\n"
     ]
    }
   ],
   "source": [
    "print(X_test)\n",
    "print(X_train)\n",
    "\n",
    "print(len(list(X_test)))\n",
    "print(len(list(X_train)))"
   ]
  },
  {
   "cell_type": "markdown",
   "metadata": {
    "id": "ZnhPDvc8DCcr"
   },
   "source": [
    "**TODO** Zmień poniższy kod tak by wyświetlić 10 przykładowych obrazków - po jednym z każdej klasy."
   ]
  },
  {
   "cell_type": "code",
   "execution_count": 5,
   "metadata": {
    "colab": {
     "base_uri": "https://localhost:8080/",
     "height": 281
    },
    "id": "G6DBqmkEcKKL",
    "outputId": "96fb00d8-3a41-4913-986c-8595acdf5cab"
   },
   "outputs": [
    {
     "data": {
      "image/png": "[encoded data removed]",
      "text/plain": [
       "<Figure size 1000x1000 with 10 Axes>"
      ]
     },
     "metadata": {},
     "output_type": "display_data"
    }
   ],
   "source": [
    "unique_classes = np.unique(y_test)\n",
    "\n",
    "plt.figure(figsize=(10, 10))\n",
    "\n",
    "for i, cls in enumerate(unique_classes):\n",
    "    idx = np.where(y_test == cls)[0][0]  # Pobiera indeks pierwszego wystąpienia klasy\n",
    "    plt.subplot(2,5,i+1)\n",
    "    plt.imshow(X_test[idx], cmap='gray', interpolation='none')\n",
    "    plt.title(\"{}\".format(class_names[y_test[idx]]))\n",
    "plt.tight_layout()\n",
    "plt.show()"
   ]
  },
  {
   "cell_type": "markdown",
   "metadata": {
    "id": "VMjUbt92c1hL"
   },
   "source": [
    "Sieć neuronowa przyjmuje na wejściu obrazek z jednym kanałem - poziomem jasności, więc konieczne jest przekształcenie danych wejściowych, aby każdy obraz 28 x 28 stał się macierzą 28 x 28 x 1. \n",
    "\n",
    "Skalujemy również dane wejściowe w zakresie [0–1] zamiast [0–255]"
   ]
  },
  {
   "cell_type": "code",
   "execution_count": 6,
   "metadata": {
    "id": "eBEvZU9gdFfU"
   },
   "outputs": [
    {
     "name": "stdout",
     "output_type": "stream",
     "text": [
      "Training matrix shape (60000, 28, 28, 1)\n",
      "Testing matrix shape (10000, 28, 28, 1)\n",
      "10\n"
     ]
    }
   ],
   "source": [
    "X_train = X_train.reshape(60000, 28, 28, 1)\n",
    "X_test = X_test.reshape(10000, 28, 28, 1)\n",
    "X_train = X_train.astype('float32')\n",
    "X_test = X_test.astype('float32')\n",
    "X_train /= 255\n",
    "X_test /= 255\n",
    "print(\"Training matrix shape\", X_train.shape)\n",
    "print(\"Testing matrix shape\", X_test.shape)\n",
    "\n",
    "print(nb_classes)"
   ]
  },
  {
   "cell_type": "markdown",
   "metadata": {
    "id": "-tJKBV4LdMm7"
   },
   "source": [
    "Zmodyfikuj macierze wyjść korzystając z techniki One Hot Encoding, tj.\n",
    "\n",
    "```\n",
    "0 -> [1, 0, 0, 0, 0, 0, 0, 0, 0]\n",
    "1 -> [0, 1, 0, 0, 0, 0, 0, 0, 0]\n",
    "2 -> [0, 0, 1, 0, 0, 0, 0, 0, 0]\n",
    "```\n",
    "itp."
   ]
  },
  {
   "cell_type": "code",
   "execution_count": 7,
   "metadata": {
    "id": "YeyLgauzdLUC"
   },
   "outputs": [],
   "source": [
    "Y_train = to_categorical(y_train)\n",
    "Y_test = to_categorical(y_test)"
   ]
  },
  {
   "cell_type": "markdown",
   "metadata": {
    "id": "0MBVlQSBDhd3"
   },
   "source": [
    "Wielowarstwowa sieć konwolucyjna do klasyfikacji ubrań."
   ]
  },
  {
   "cell_type": "code",
   "execution_count": 8,
   "metadata": {
    "id": "JenWFnRJPyI6"
   },
   "outputs": [],
   "source": [
    "model = Sequential([\n",
    "  Conv2D(16, 3, activation='relu', input_shape=(28, 28, 1)),\n",
    "  MaxPooling2D(),\n",
    "  Conv2D(32, 3, activation='relu'),\n",
    "  Flatten(),\n",
    "  Dense(64, activation='relu'),\n",
    "  Dense(10, activation='softmax')\n",
    "])\n",
    "\n",
    "model.compile(optimizer='adam', loss='categorical_crossentropy', metrics=['accuracy'])"
   ]
  },
  {
   "cell_type": "code",
   "execution_count": 9,
   "metadata": {
    "id": "iSxRrxYK6pUU"
   },
   "outputs": [
    {
     "name": "stdout",
     "output_type": "stream",
     "text": [
      "Model: \"sequential\"\n",
      "_________________________________________________________________\n",
      " Layer (type)                Output Shape              Param #   \n",
      "=================================================================\n",
      " conv2d (Conv2D)             (None, 26, 26, 16)        160       \n",
      "                                                                 \n",
      " max_pooling2d (MaxPooling2  (None, 13, 13, 16)        0         \n",
      " D)                                                              \n",
      "                                                                 \n",
      " conv2d_1 (Conv2D)           (None, 11, 11, 32)        4640      \n",
      "                                                                 \n",
      " flatten (Flatten)           (None, 3872)              0         \n",
      "                                                                 \n",
      " dense (Dense)               (None, 64)                247872    \n",
      "                                                                 \n",
      " dense_1 (Dense)             (None, 10)                650       \n",
      "                                                                 \n",
      "=================================================================\n",
      "Total params: 253322 (989.54 KB)\n",
      "Trainable params: 253322 (989.54 KB)\n",
      "Non-trainable params: 0 (0.00 Byte)\n",
      "_________________________________________________________________\n"
     ]
    }
   ],
   "source": [
    "model.summary()"
   ]
  },
  {
   "cell_type": "markdown",
   "metadata": {
    "id": "7CKJgoMcDrFv"
   },
   "source": [
    "W celu skrócenia czasu uczenia sieci wskazane jest użycie GPU."
   ]
  },
  {
   "cell_type": "code",
   "execution_count": 10,
   "metadata": {
    "id": "Xo3UTs-Hd8L0"
   },
   "outputs": [
    {
     "name": "stdout",
     "output_type": "stream",
     "text": [
      "Epoch 1/10\n",
      "1875/1875 [==============================] - 11s 5ms/step - loss: 0.4389 - accuracy: 0.8448 - val_loss: 0.3282 - val_accuracy: 0.8811\n",
      "Epoch 2/10\n",
      "1875/1875 [==============================] - 11s 6ms/step - loss: 0.2904 - accuracy: 0.8953 - val_loss: 0.2888 - val_accuracy: 0.8940\n",
      "Epoch 3/10\n",
      "1875/1875 [==============================] - 10s 6ms/step - loss: 0.2433 - accuracy: 0.9117 - val_loss: 0.2637 - val_accuracy: 0.9045\n",
      "Epoch 4/10\n",
      "1875/1875 [==============================] - 10s 5ms/step - loss: 0.2109 - accuracy: 0.9216 - val_loss: 0.2392 - val_accuracy: 0.9135\n",
      "Epoch 5/10\n",
      "1875/1875 [==============================] - 10s 5ms/step - loss: 0.1829 - accuracy: 0.9319 - val_loss: 0.2418 - val_accuracy: 0.9146\n",
      "Epoch 6/10\n",
      "1875/1875 [==============================] - 10s 5ms/step - loss: 0.1590 - accuracy: 0.9411 - val_loss: 0.2500 - val_accuracy: 0.9106\n",
      "Epoch 7/10\n",
      "1875/1875 [==============================] - 10s 5ms/step - loss: 0.1391 - accuracy: 0.9488 - val_loss: 0.2459 - val_accuracy: 0.9147\n",
      "Epoch 8/10\n",
      "1875/1875 [==============================] - 10s 5ms/step - loss: 0.1190 - accuracy: 0.9558 - val_loss: 0.2501 - val_accuracy: 0.9187\n",
      "Epoch 9/10\n",
      "1875/1875 [==============================] - 10s 5ms/step - loss: 0.1026 - accuracy: 0.9627 - val_loss: 0.2793 - val_accuracy: 0.9147\n",
      "Epoch 10/10\n",
      "1875/1875 [==============================] - 10s 5ms/step - loss: 0.0898 - accuracy: 0.9671 - val_loss: 0.2699 - val_accuracy: 0.9200\n"
     ]
    },
    {
     "data": {
      "text/plain": [
       "<keras.src.callbacks.History at 0x17bafe65d90>"
      ]
     },
     "execution_count": 10,
     "metadata": {},
     "output_type": "execute_result"
    }
   ],
   "source": [
    "model.fit(X_train, Y_train,\n",
    "          batch_size=32, epochs=10,\n",
    "          verbose=1,\n",
    "          validation_data=(X_test, Y_test))"
   ]
  },
  {
   "cell_type": "markdown",
   "metadata": {
    "id": "VUF-tZzKG_5r"
   },
   "source": [
    "# Zapisywanie NN\n",
    "\n",
    "Szczegółowe informacje dotyczące zapisywania modeli TensorFlow dostępne pod linkiem:\n",
    "\n",
    "https://www.tensorflow.org/tutorials/keras/save_and_load"
   ]
  },
  {
   "cell_type": "code",
   "execution_count": 11,
   "metadata": {},
   "outputs": [],
   "source": [
    "export_dir = 'saved_model'"
   ]
  },
  {
   "cell_type": "code",
   "execution_count": 12,
   "metadata": {
    "id": "_XXAwJIjR-eF"
   },
   "outputs": [
    {
     "name": "stdout",
     "output_type": "stream",
     "text": [
      "INFO:tensorflow:Assets written to: saved_model\\assets\n"
     ]
    },
    {
     "name": "stderr",
     "output_type": "stream",
     "text": [
      "INFO:tensorflow:Assets written to: saved_model\\assets\n"
     ]
    }
   ],
   "source": [
    "model.save(export_dir)"
   ]
  },
  {
   "cell_type": "markdown",
   "metadata": {
    "id": "2Qc03BzFZkOL"
   },
   "source": [
    "Po zapisaniu modelu należy kliknąć \"Refresh\" po lewej stronie w zakładce \"Files\". W katalogu \"saved_model\" znajduje się zapisany model."
   ]
  },
  {
   "cell_type": "markdown",
   "metadata": {
    "id": "2ikJea6vRj4o"
   },
   "source": [
    "# Export do TFLite\n",
    "\n",
    "Narzędzie `TFLiteConverter` zostanie wykorzystane do konwersji modelu NN do formatu akceptowanego przez TFLite tzn. `flat protocol buffers`.\n",
    "\n",
    "https://www.tensorflow.org/lite/guide/get_started#2_convert_the_model_format\n",
    "\n",
    "Wygenerowany model `\"model-base.tflite\"` operuje na wagach typu `float32`."
   ]
  },
  {
   "cell_type": "code",
   "execution_count": 13,
   "metadata": {
    "id": "IWcRPnrS5NxX"
   },
   "outputs": [],
   "source": [
    "  converter = tf.lite.TFLiteConverter.from_saved_model(export_dir)\n",
    "  tflite_model = converter.convert()\n",
    "\n",
    "  with open(\"model-base.tflite\", \"wb\") as f:\n",
    "    f.write(tflite_model)  \n"
   ]
  },
  {
   "cell_type": "markdown",
   "metadata": {
    "id": "yxUdslmYapId"
   },
   "source": [
    "Po zapisaniu modelu należy kliknąć \"Refresh\" po lewej stronie w zakładce \"Files\". "
   ]
  },
  {
   "cell_type": "markdown",
   "metadata": {
    "id": "RAw9StfeGxB3"
   },
   "source": [
    "Kolejnym krokiem jest kwantyzacja wag modelu z 32 bitowych liczb rzeczywistych do liczb 8 bitowych. Proces kwantyzacji jest uruchamiany na gotowym, wyuczonym modelu. Należy wybrać profil optymaliacji `tf.lite.Optimize.DEFAULT`.\n",
    "\n"
   ]
  },
  {
   "cell_type": "code",
   "execution_count": 14,
   "metadata": {
    "id": "cimp2vhU51dZ"
   },
   "outputs": [],
   "source": [
    "  converter = tf.lite.TFLiteConverter.from_saved_model(export_dir)\n",
    "  \n",
    "  #TODO ustaw odpowiedni rodzaj optymalizacji sieci neuronowej\n",
    "\n",
    "  converter.optimizations = [tf.lite.Optimize.DEFAULT]\n",
    "  tflite_model = converter.convert()\n",
    "\n",
    "  with open(\"model-quant.tflite\", \"wb\") as f:\n",
    "    f.write(tflite_model)  \n"
   ]
  },
  {
   "cell_type": "markdown",
   "metadata": {
    "id": "Qr9DQgrKHi_B"
   },
   "source": [
    "Po zapisaniu modelu należy kliknąć \"Refresh\" po lewej stronie w zakładce \"Files\"."
   ]
  },
  {
   "cell_type": "code",
   "execution_count": 15,
   "metadata": {
    "id": "ZUcelAwJ5NU7"
   },
   "outputs": [],
   "source": [
    "# funkcja testujaca model z wykorzystaniem interpretera TFLite\n",
    "# TODO zmodyfikuj funkcje tak by zwracala (accuracy, latency)\n",
    "\n",
    "def test_model_accuracy(tflite_model):\n",
    "    # Load TFLite model and allocate tensors.\n",
    "    interpreter = tf.lite.Interpreter(model_path=tflite_model)\n",
    "    interpreter.allocate_tensors()\n",
    "    \n",
    "    input_index = interpreter.get_input_details()[0][\"index\"]\n",
    "    output_index = interpreter.get_output_details()[0][\"index\"]\n",
    "\n",
    "    correct_predictions = 0\n",
    "    total_samples = len(X_test)\n",
    "    total_latency = 0\n",
    "    \n",
    "    for img, label in zip(X_test, y_test):\n",
    "        # mierzymy czas rozpoczęcia i zakończenia wykonywania predykcji\n",
    "        start_time = time.time()\n",
    "    \n",
    "        interpreter.set_tensor(input_index, [img])\n",
    "        interpreter.invoke()\n",
    "        prediction = interpreter.get_tensor(output_index)\n",
    "        label_is = np.argmax(prediction, axis=-1)[0]\n",
    "        label_should_be = label\n",
    "    \n",
    "        end_time = time.time()\n",
    "        total_latency += end_time - start_time\n",
    "    \n",
    "        if label_is == label_should_be:\n",
    "            correct_predictions += 1\n",
    "    \n",
    "    accuracy = correct_predictions / total_samples\n",
    "    latency = total_latency / total_samples\n",
    "    \n",
    "    return accuracy, latency\n"
   ]
  },
  {
   "cell_type": "code",
   "execution_count": 16,
   "metadata": {
    "id": "_tHC8pGhT0_N"
   },
   "outputs": [
    {
     "name": "stdout",
     "output_type": "stream",
     "text": [
      "(0.92, 5.480432510375977e-05)\n",
      "(0.9201, 0.003357930517196655)\n"
     ]
    }
   ],
   "source": [
    "#TODO tylko na potrzeby testowania - do usuniecia\n",
    "print(test_model_accuracy(\"model-base.tflite\"))\n",
    "accuracy_base, latency_base = test_model_accuracy(\"model-base.tflite\")\n",
    "\n",
    "#TODO tylko na potrzeby testowania - do usuniecia\n",
    "print(test_model_accuracy(\"model-quant.tflite\"))\n",
    "accuracy_quant, latency_quant = test_model_accuracy(\"model-quant.tflite\")"
   ]
  },
  {
   "cell_type": "code",
   "execution_count": 17,
   "metadata": {},
   "outputs": [],
   "source": [
    "import os\n",
    "def get_file_size(file_path):\n",
    "    return os.path.getsize(file_path) / (1024 * 1024)  # Przekształcenie bajtów na megabajty"
   ]
  },
  {
   "cell_type": "code",
   "execution_count": 18,
   "metadata": {},
   "outputs": [],
   "source": [
    "base_model_size = get_file_size(\"model-base.tflite\")\n",
    "quant_model_size = get_file_size(\"model-quant.tflite\")"
   ]
  },
  {
   "cell_type": "code",
   "execution_count": 19,
   "metadata": {
    "id": "9SshGHd36A9a"
   },
   "outputs": [
    {
     "data": {
      "image/png": "[encoded data removed]",
      "text/plain": [
       "<Figure size 1000x800 with 3 Axes>"
      ]
     },
     "metadata": {},
     "output_type": "display_data"
    }
   ],
   "source": [
    "# porównaj dokladnosc wynikowych modeli TFLite\n",
    "categories = ['Model Base', 'Model Quantized']\n",
    "accuracies = [accuracy_base, accuracy_quant]\n",
    "# Konwersja sekund na milisekundy\n",
    "latencies = [latency_base * 1e3, latency_quant * 1e3]\n",
    "sizes = [base_model_size, quant_model_size]\n",
    "\n",
    "# Wykres słupkowy\n",
    "fig, ax = plt.subplots(3, 1, figsize=(10, 8))\n",
    "\n",
    "# Dokładność\n",
    "ax[0].bar(categories, accuracies, color=['orange', 'yellow'])\n",
    "ax[0].set_title('Accuracy Comparison')\n",
    "ax[0].set_ylabel('Accuracy')\n",
    "ax[0].set_ylim(0, 1)  # Zakres osi Y od 0 do 1\n",
    "\n",
    "# Opuźnienie\n",
    "ax[1].bar(categories, latencies, color=['orange', 'yellow'])\n",
    "ax[1].set_title('Latency Comparison')\n",
    "ax[1].set_ylabel('Latency (ms)')\n",
    "\n",
    "# Rozmiar\n",
    "ax[2].bar(categories, sizes, color=['orange', 'yellow'])\n",
    "ax[2].set_title('Model Size Comparison')\n",
    "ax[2].set_ylabel('Size (MB)')\n",
    "\n",
    "plt.tight_layout()\n",
    "plt.show()\n"
   ]
  },
  {
   "cell_type": "markdown",
   "metadata": {
    "id": "5fCWZL6YuiDh"
   },
   "source": [
    " # Wnioski\n",
    "\n",
    "Kwantyzacja, czyli zmniejszenie precyzji wag i/lub aktywacji, może prowadzić do straty dokładności modelu. W związku z tym, model skwantyzowany może wymagać większej liczby iteracji lub obliczeń, aby osiągnąć podobny poziom dokładności co model zwykły, co prowadzi do obserwowanej wyższej latency. \n",
    "\n",
    "Model TensorFlow-Lite jak oczekiwano zajmuje mniej miejsca niż pełna wersja modelu TensorFlow."
   ]
  }
 ],
 "metadata": {
  "accelerator": "GPU",
  "colab": {
   "collapsed_sections": [],
   "name": "lab4_v3-student.ipynb",
   "provenance": [],
   "toc_visible": true
  },
  "kernelspec": {
   "display_name": "Python 3 (ipykernel)",
   "language": "python",
   "name": "python3"
  },
  "language_info": {
   "codemirror_mode": {
    "name": "ipython",
    "version": 3
   },
   "file_extension": ".py",
   "mimetype": "text/x-python",
   "name": "python",
   "nbconvert_exporter": "python",
   "pygments_lexer": "ipython3",
   "version": "3.8.19"
  }
 },
 "nbformat": 4,
 "nbformat_minor": 4
}
